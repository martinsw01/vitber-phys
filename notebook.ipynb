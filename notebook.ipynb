{
 "cells": [
  {
   "cell_type": "markdown",
   "metadata": {
    "collapsed": true,
    "pycharm": {
     "name": "#%% md\n"
    }
   },
   "source": [
    "# Project Physics"
   ]
  },
  {
   "cell_type": "markdown",
   "source": [
    "In this text we will look, numerically, at the stability of a ship. For a ship to be able to sail across the ocean, it needs to have a certain amount of stability. This stability prevents it from capsizing from the forces that are bound to be affecting the ship on its tour. We will look at how different initial conditions, as well as other factors, such as waves, affects the stability of a ship."
   ],
   "metadata": {
    "collapsed": false,
    "pycharm": {
     "name": "#%% md\n"
    }
   }
  },
  {
   "cell_type": "markdown",
   "source": [
    "To make the calculations accessible, we need to make simplifications of the ship. Firstly, we will make the problem 2-dimensional by only looking at a slice in the middle of the ship. This simplification does not affect the final result considerably, as it is safe to assume that the forces are close to constant throughout the ship, and our interest is in whether the ship will capsize."
   ],
   "metadata": {
    "collapsed": false,
    "pycharm": {
     "name": "#%% md\n"
    }
   }
  },
  {
   "cell_type": "code",
   "execution_count": 2,
   "outputs": [],
   "source": [
    "import numpy as np\n",
    "import matplotlib.pyplot as plt"
   ],
   "metadata": {
    "collapsed": false,
    "pycharm": {
     "name": "#%%\n"
    }
   }
  },
  {
   "cell_type": "markdown",
   "source": [
    "First of, we need to define our ship. Our ship will be a half-circle with uniform mass (see figure 1**). We need several constants that we will use in the calculations:"
   ],
   "metadata": {
    "collapsed": false,
    "pycharm": {
     "name": "#%% md\n"
    }
   }
  },
  {
   "cell_type": "code",
   "execution_count": 3,
   "outputs": [],
   "source": [
    "R = 10 # Radius of the ship\n",
    "H = 4 * R / (3 * np.pi) # The distance from the midpoint of the diameter to the center of mass\n",
    "g = 9.81 # The gravitational acceleration\n",
    "sigma0 = 1000 # The density of the water\n",
    "sigma = 500 # The density of the ship"
   ],
   "metadata": {
    "collapsed": false,
    "pycharm": {
     "name": "#%%\n"
    }
   }
  },
  {
   "cell_type": "markdown",
   "source": [
    "To do some calculations, we first need to identify the forces that act on the ship. We will start by assuming the center of mass stays in place, and the only movement will be a rotation of the ship. As a start, the forces analyzed will be restricted to the updraft of the water. This updraft will, by symmetry, be normal to the surface of the water. With the use of geometry one can find that the area subdued underwater is\n",
    "$$A = \\frac{1}{2}R^2(\\gamma-\\sin(\\gamma))$$\n",
    "Furthermore, we define the angle $\\theta$ as the angle of rotation around the center of mass of the boat. This angle is defined positive counter-clockwise. With further geometry, it can be shown that the angle $\\gamma$ can be expressed by $\\theta$:\n",
    "$$\\gamma=2 \\arccos{\\left(\\cos(\\beta/2)-\\frac{4}{3\\pi}(1-\\cos(\\theta)\\right)$$\n",
    "where $\\beta$ is the initial $\\gamma$ when the ship is in equilibrium."
   ],
   "metadata": {
    "collapsed": false,
    "pycharm": {
     "name": "#%% md\n"
    }
   }
  },
  {
   "cell_type": "markdown",
   "source": [
    "Now, the total updraft from the water is\n",
    "$$F_B=A\\sigma_0g$$\n",
    "As a rotation of the ship will displace the center of mass from the center of the updraft force. This gives a torque that can be expressed as:\n",
    "$$\\tau_B = -F_Bh\\sin(\\theta)$$\n",
    "It can also be shown that the moment of inertia of the ship around the center of mass is:\n",
    "$$I_C = \\frac{1}{2}mR^2-mH^2$$\n",
    "Where H is the distance from the midpoint M (see figure 1) to the center of mass C.\n",
    "\n",
    "We will now use Eulers method to simulate numerically the movement of the ship:"
   ],
   "metadata": {
    "collapsed": false,
    "pycharm": {
     "name": "#%% md\n"
    }
   }
  },
  {
   "cell_type": "code",
   "execution_count": 5,
   "outputs": [],
   "source": [
    "A0 = 1 / 2 * R ** 2 * np.pi * sigma / sigma0 # Area subdued underwater at equilibrium\n",
    "m = A0 * sigma0 # Mass of the water that is displaced\n",
    "I_M = 1 / 2 * m * R ** 2 # Moment of inertia of the midpoint M\n",
    "I_C = I_M - m * H ** 2 # Moment of inertia of the center of mass\n",
    "omega_0 = (m * g * H / I_C) ** 0.5 # ??\n",
    "\n",
    "F_G = -m * g # ??\n",
    "\n",
    "def F_B(A): # The updraft force\n",
    "    return A * sigma0 * g\n",
    "\n",
    "def tau_B(theta, A): #The torque from the updraft\n",
    "    return -F_B(A) * H * np.sin(theta)"
   ],
   "metadata": {
    "collapsed": false,
    "pycharm": {
     "name": "#%%\n"
    }
   }
  },
  {
   "cell_type": "code",
   "execution_count": 6,
   "outputs": [],
   "source": [
    "def f(x, y):  # Function that defines the derivative of theta and w\n",
    "    theta, w = y\n",
    "    tau = tau_B(theta, A0)\n",
    "    return np.array([w, tau / I_C])"
   ],
   "metadata": {
    "collapsed": false,
    "pycharm": {
     "name": "#%%\n"
    }
   }
  }
 ],
 "metadata": {
  "kernelspec": {
   "display_name": "Python 3",
   "language": "python",
   "name": "python3"
  },
  "language_info": {
   "codemirror_mode": {
    "name": "ipython",
    "version": 2
   },
   "file_extension": ".py",
   "mimetype": "text/x-python",
   "name": "python",
   "nbconvert_exporter": "python",
   "pygments_lexer": "ipython2",
   "version": "2.7.6"
  }
 },
 "nbformat": 4,
 "nbformat_minor": 0
}